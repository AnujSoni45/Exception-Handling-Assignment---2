{
 "cells": [
  {
   "cell_type": "code",
   "execution_count": null,
   "id": "da9cfa0a-0421-4500-a392-c94982528dc1",
   "metadata": {},
   "outputs": [],
   "source": [
    "Q1. Explain why we have to use the Exception class while creating a Custom Exception."
   ]
  },
  {
   "cell_type": "code",
   "execution_count": null,
   "id": "da36610b-fb93-414b-acbe-918cb68da703",
   "metadata": {},
   "outputs": [],
   "source": [
    "(Answer):\n",
    "In object-oriented programming, including languages like Java, Python, and C#, exceptions are a mechanism for handling and signaling errors or exceptional situations in your code. They allow you to control the flow of your program when something unexpected or erroneous happens. Custom exceptions are exceptions that you define yourself, tailored to specific scenarios in your application.\n",
    "\n",
    "When creating a custom exception, it's important to derive your new exception class from the built-in Exception class (or a subclass of it). Here's why:\n",
    "\n",
    "Hierarchical Structure: Exception classes in many programming languages are organized in a hierarchy. At the root of this hierarchy is usually a base exception class (like Exception in Java or Python). By deriving your custom exception from the base class, you inherit the basic behavior and functionality of exceptions, such as stack trace management, error message handling, and interaction with the language's exception handling mechanisms.\n",
    "\n",
    "Consistency and Clarity: When you use the existing exception hierarchy, developers who encounter your custom exception will be familiar with how to handle it. They will understand that it's meant to be treated like any other exception in the language. This promotes consistency and reduces confusion among developers working on the codebase.\n",
    "\n",
    "Exception Handling: Exception handling involves catching and dealing with different types of exceptions. By using the standard Exception class or its subclasses, you can leverage existing exception handling mechanisms in your language, making it easier to catch, manage, and propagate your custom exception throughout your code.\n",
    "\n",
    "Compatibility: Using the built-in Exception class ensures that your custom exception integrates seamlessly with existing error handling tools, libraries, and frameworks. Other developers using your code, or even third-party tools, will be able to work with your custom exception without needing to modify their exception handling practices.\n",
    "\n",
    "Documentation and Understanding: When someone reads your code or documentation, they will quickly grasp that a particular class is an exception because it's derived from the standard Exception class. This aids in understanding your codebase and its error-handling strategies."
   ]
  },
  {
   "cell_type": "code",
   "execution_count": null,
   "id": "039e0f60-d56e-4e02-99e4-09d76249cece",
   "metadata": {},
   "outputs": [],
   "source": [
    "Q2. Write a python program to print Python Exception Hierarchy."
   ]
  },
  {
   "cell_type": "code",
   "execution_count": null,
   "id": "561247f1-56a6-471c-bab1-c5948ff8a85e",
   "metadata": {},
   "outputs": [],
   "source": [
    "def print_exception_hierarchy(exception_class, indent=0):\n",
    "    print('  ' * indent + exception_class.__name__)\n",
    "    for subclass in exception_class.__subclasses__():\n",
    "        print_exception_hierarchy(subclass, indent + 1)\n",
    "\n",
    "print_exception_hierarchy(BaseException)\n"
   ]
  },
  {
   "cell_type": "code",
   "execution_count": null,
   "id": "b219ff40-1160-41c5-b8d1-74aa76d5f054",
   "metadata": {},
   "outputs": [],
   "source": [
    "Q3. What errors are defined in the ArithmeticError class? Explain any two with an example."
   ]
  },
  {
   "cell_type": "code",
   "execution_count": null,
   "id": "a75ac78d-dc51-415f-a619-435465e384db",
   "metadata": {},
   "outputs": [],
   "source": [
    "(1) ZeroDivisionError:\n",
    "\n",
    "Description: This exception is raised when attempting to divide a number by zero.\n",
    "Example:"
   ]
  },
  {
   "cell_type": "code",
   "execution_count": 2,
   "id": "e3c0a6bb-57b1-4194-9f6e-3e5bd7d02aa3",
   "metadata": {},
   "outputs": [
    {
     "name": "stdout",
     "output_type": "stream",
     "text": [
      "Caught a ZeroDivisionError: division by zero\n"
     ]
    }
   ],
   "source": [
    "try:\n",
    "    result = 10 / 0\n",
    "except ZeroDivisionError as e:\n",
    "    print(\"Caught a ZeroDivisionError:\", e)\n"
   ]
  },
  {
   "cell_type": "code",
   "execution_count": null,
   "id": "d32c0545-25ca-4738-bde7-6326cea9f0d3",
   "metadata": {},
   "outputs": [],
   "source": [
    "(2) OverflowError:\n",
    "\n",
    "Description: This exception is raised when the result of an arithmetic operation is too large (overflow) to be represented within the available numeric range.\n",
    "Example:"
   ]
  },
  {
   "cell_type": "code",
   "execution_count": 4,
   "id": "09e6b2aa-d5e8-4472-b5f8-ee0fd620b241",
   "metadata": {},
   "outputs": [],
   "source": [
    "import sys\n",
    "\n",
    "try:\n",
    "    big_number = sys.maxsize + 1\n",
    "except OverflowError as e:\n",
    "    print(\"Caught an OverflowError:\", e)"
   ]
  },
  {
   "cell_type": "code",
   "execution_count": null,
   "id": "d1361f1e-806d-465b-9229-3c1f3045605b",
   "metadata": {},
   "outputs": [],
   "source": [
    "Q4. Why LookupError class is used? Explain with an example KeyError and IndexError."
   ]
  },
  {
   "cell_type": "code",
   "execution_count": null,
   "id": "ab94a6e3-299b-468d-886c-d4e7e4449b3c",
   "metadata": {},
   "outputs": [],
   "source": [
    "(Answer)\n",
    "The LookupError class in Python is used as a base class for exceptions that occur when an index or a key is not found in a sequence or mapping. It provides a way to handle lookup-related errors in a consistent manner. Two common exceptions that are derived from LookupError are KeyError and IndexError."
   ]
  },
  {
   "cell_type": "code",
   "execution_count": null,
   "id": "67fb35d5-3fd8-47ff-9abd-24f773764db9",
   "metadata": {},
   "outputs": [],
   "source": [
    "KeyError:\n",
    "\n",
    "Description: This exception is raised when a dictionary key is not found.\n",
    "Example:"
   ]
  },
  {
   "cell_type": "code",
   "execution_count": 5,
   "id": "f7e3c7d6-7d79-429e-ab56-4771b3c4a2b1",
   "metadata": {},
   "outputs": [
    {
     "name": "stdout",
     "output_type": "stream",
     "text": [
      "Caught a KeyError: 'grape'\n"
     ]
    }
   ],
   "source": [
    "my_dict = {'apple': 3, 'banana': 5, 'cherry': 8}\n",
    "try:\n",
    "    value = my_dict['grape']\n",
    "except KeyError as e:\n",
    "    print(\"Caught a KeyError:\", e)\n"
   ]
  },
  {
   "cell_type": "code",
   "execution_count": null,
   "id": "ea1f79c6-bbf4-47e5-864c-6eb06d2fa4e9",
   "metadata": {},
   "outputs": [],
   "source": [
    "IndexError:\n",
    "\n",
    "Description: This exception is raised when an index of a sequence (like a list or a string) is out of range.\n",
    "Example:"
   ]
  },
  {
   "cell_type": "code",
   "execution_count": 6,
   "id": "aee9625e-d8a3-4d76-94e2-d626503390db",
   "metadata": {},
   "outputs": [
    {
     "name": "stdout",
     "output_type": "stream",
     "text": [
      "Caught an IndexError: list index out of range\n"
     ]
    }
   ],
   "source": [
    "my_list = [10, 20, 30, 40, 50]\n",
    "try:\n",
    "    value = my_list[10]\n",
    "except IndexError as e:\n",
    "    print(\"Caught an IndexError:\", e)\n"
   ]
  },
  {
   "cell_type": "code",
   "execution_count": null,
   "id": "8b09a44f-2115-4e23-b42e-3c9978f9f9e8",
   "metadata": {},
   "outputs": [],
   "source": [
    "Q5. Explain ImportError. What is ModuleNotFoundError?"
   ]
  },
  {
   "cell_type": "code",
   "execution_count": null,
   "id": "f339d432-eb29-49f1-9fb0-b3bcb20e9c75",
   "metadata": {},
   "outputs": [],
   "source": [
    "(Answer)\n",
    "ImportError and ModuleNotFoundError are both exceptions in Python that are raised when there are issues with importing modules, but they have slightly different use cases and behaviors."
   ]
  },
  {
   "cell_type": "code",
   "execution_count": null,
   "id": "55d8c8d3-4e02-4d2f-b369-a56bca88fe3a",
   "metadata": {},
   "outputs": [],
   "source": [
    "ImportError:\n",
    "\n",
    "Description: ImportError is a base exception class for errors related to importing modules. It's raised when the import statement encounters a problem while trying to load a module.\n",
    "\n",
    "Common Scenarios:\n",
    "\n",
    "The specified module doesn't exist in the specified path.\n",
    "There are syntax errors or other issues within the module being imported.\n",
    "The module's dependencies cannot be resolved.\n",
    "Example:"
   ]
  },
  {
   "cell_type": "code",
   "execution_count": 7,
   "id": "c1c4c898-7dc3-4109-b0f9-5c9d28fe26dd",
   "metadata": {},
   "outputs": [
    {
     "name": "stdout",
     "output_type": "stream",
     "text": [
      "Caught an ImportError: No module named 'non_existent_module'\n"
     ]
    }
   ],
   "source": [
    "try:\n",
    "    import non_existent_module\n",
    "except ImportError as e:\n",
    "    print(\"Caught an ImportError:\", e)\n"
   ]
  },
  {
   "cell_type": "code",
   "execution_count": null,
   "id": "7cd4baaf-3a89-4f26-81d3-aa8e69376f54",
   "metadata": {},
   "outputs": [],
   "source": [
    "ModuleNotFoundError:\n",
    "\n",
    "Description: ModuleNotFoundError is a specific exception introduced in Python 3.6. It is derived from ImportError and is raised when a module is not found during the import process.\n",
    "\n",
    "Difference: While ModuleNotFoundError is a subclass of ImportError, it provides a more precise error message specifically for missing modules, making it easier to identify the cause of the issue.\n",
    "\n",
    "Example:"
   ]
  },
  {
   "cell_type": "code",
   "execution_count": 8,
   "id": "44b29160-3bb8-4b30-9219-ad56048f2406",
   "metadata": {},
   "outputs": [
    {
     "name": "stdout",
     "output_type": "stream",
     "text": [
      "Caught a ModuleNotFoundError: No module named 'non_existent_module'\n"
     ]
    }
   ],
   "source": [
    "try:\n",
    "    import non_existent_module\n",
    "except ModuleNotFoundError as e:\n",
    "    print(\"Caught a ModuleNotFoundError:\", e)\n"
   ]
  },
  {
   "cell_type": "code",
   "execution_count": null,
   "id": "31c32b14-6d2c-4eaf-9335-6edf7543feb4",
   "metadata": {},
   "outputs": [],
   "source": [
    "Q6. List down some best practices for exception handling in python."
   ]
  },
  {
   "cell_type": "code",
   "execution_count": null,
   "id": "ca10c92c-b95f-4d6f-af53-e2d473e6e1d0",
   "metadata": {},
   "outputs": [],
   "source": [
    "(Answer):\n",
    "Exception handling is an important aspect of writing robust and maintainable code in Python. Here are some best practices to follow when handling exceptions:\n",
    "\n",
    "Specific Exception Handling: Catch only the exceptions that you expect and can handle. Avoid using a bare except clause, as it can hide unexpected errors and make debugging difficult.\n",
    "\n",
    "Use Multiple Except Blocks: Use separate except blocks for different types of exceptions, rather than catching them all in a single block. This allows you to handle each exception type differently.\n",
    "\n",
    "Be Precise with Exceptions: Catch the most specific exception types first before catching more general ones. This helps ensure that you handle exceptions accurately and maintain clarity in your code.\n",
    "\n",
    "Use finally for Cleanup: The finally block is executed regardless of whether an exception occurred or not. Use it for cleanup operations such as closing files or releasing resources.\n",
    "\n",
    "Avoid Deep Nesting: Don't excessively nest try-except blocks. This can make your code harder to read and maintain. Refactor your code to handle exceptions at an appropriate level.\n",
    "\n",
    "Logging: Use the logging module to log exceptions and relevant information. This helps you track errors and diagnose issues in a production environment.\n",
    "\n",
    "Custom Exception Classes: Create custom exception classes when you encounter specific scenarios that aren't adequately covered by built-in exceptions. This can improve the readability and maintainability of your code.\n",
    "\n",
    "Graceful Degradation: Handle exceptions gracefully by providing fallbacks or default values, especially when dealing with external resources or user input.\n",
    "\n",
    "Avoid Swallowing Exceptions: Avoid catching exceptions and not doing anything about them. If you catch an exception, make sure to either handle it appropriately or re-raise it if necessary.\n",
    "\n",
    "Use with for Context Management: When working with files, databases, or other resources, use the with statement (context managers) to ensure proper resource cleanup, even in the presence of exceptions.\n",
    "\n",
    "Raising Exceptions: Raise exceptions when you encounter unexpected situations or errors in your code. Provide informative error messages that help identify the problem.\n",
    "\n",
    "Unit Testing: Write unit tests that cover various exception scenarios to ensure that your code handles exceptions correctly and behaves as expected.\n",
    "\n",
    "Avoid Bare except: If you need to catch multiple exception types, use a tuple or a list in the except clause, like except (ExceptionType1, ExceptionType2) as e.\n",
    "\n",
    "Use try-except Else: You can use the else block in a try-except construct to specify code that should run only if no exception occurs. This can improve the clarity of your code.\n",
    "\n",
    "Avoid Global Exception Handling: Avoid catching exceptions at the global level unless it's truly necessary. Handling exceptions closer to the source of the problem makes debugging easier."
   ]
  }
 ],
 "metadata": {
  "kernelspec": {
   "display_name": "Python 3 (ipykernel)",
   "language": "python",
   "name": "python3"
  },
  "language_info": {
   "codemirror_mode": {
    "name": "ipython",
    "version": 3
   },
   "file_extension": ".py",
   "mimetype": "text/x-python",
   "name": "python",
   "nbconvert_exporter": "python",
   "pygments_lexer": "ipython3",
   "version": "3.10.8"
  }
 },
 "nbformat": 4,
 "nbformat_minor": 5
}
